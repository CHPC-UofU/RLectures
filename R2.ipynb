{
 "cells": [
  {
   "cell_type": "markdown",
   "metadata": {
    "collapsed": true
   },
   "source": [
    "## RStudio - Discovery Tour\n",
    "\n",
    "* Open RStudio\n",
    "* Discuss the sub windows\n",
    "* How to generate an R-script + execute line by line\n",
    "\n",
    "* Pane with Environment & History Tab\n",
    "* Pane with Files, plots, packages, help Tab\n",
    "* How to invoke help e.g. ?mean\n",
    "* Meaning of ?/??\n",
    "\n",
    "* Top: Tools Tab: Useful settings\n",
    "    * General \n",
    "        * \"Restore .RData into workspace at startup\"\n",
    "        * \"Save workspace to .RData on exit\"\n",
    "    * Packages\n",
    "        * \"CRAN Mirror\"\n",
    "    * Sweave\n",
    "        * Knitr/pdflatex\n",
    "    * Git/SVN"
   ]
  },
  {
   "cell_type": "markdown",
   "metadata": {},
   "source": [
    "## Package installation\n",
    "* From within RStudio\n",
    "    1. In subwindow \"Files/Plots/Packages/..\" \n",
    "        * Packages/Install TAB\n",
    "        * Add the packages: lme4 mcmc\n",
    "        * Click install buttom\n",
    "    2. <span style=\"color:red\">**Manually**</span> in the console \n",
    "        * *install.packages(c(\"lme4\", \"mcmc\"))*\n",
    "* <span style=\"color:red\">**Manually**</span> from the R command line\n",
    "    * Invoke R\n",
    "    * R>*install.packages(c(\"lme4\", \"mcmc\"))*\n",
    "    \n",
    "* I prefer the command line option because it exposes all the options:\n",
    "    * Check out ?install.packages()\n",
    "    * *?installed.packages()*"
   ]
  },
  {
   "cell_type": "markdown",
   "metadata": {},
   "source": [
    "## Loading packages/libraries\n",
    "* List ALL installed packages AND give a short description\n",
    "    * *library()* \n",
    "* Search function :: Gives the search path for the R objects\n",
    "    * *search()*\n",
    "* Ex.: load lme4\n",
    "    * *library(lme4)*\n",
    "    * *search()*\n",
    "    * *?lme4*"
   ]
  },
  {
   "cell_type": "markdown",
   "metadata": {},
   "source": [
    "## Unload package/libraries\n",
    "* Ex.: unload lme4\n",
    "    * *detach(\"package:lme4\",unload=TRUE)*\n",
    "    * *search()*\n",
    "    * *?lme4*"
   ]
  },
  {
   "cell_type": "code",
   "execution_count": null,
   "metadata": {
    "collapsed": true
   },
   "outputs": [],
   "source": []
  }
 ],
 "metadata": {
  "kernelspec": {
   "display_name": "R 3.2.3",
   "language": "R",
   "name": "ir323"
  },
  "language_info": {
   "codemirror_mode": "r",
   "file_extension": ".r",
   "mimetype": "text/x-r-source",
   "name": "R",
   "pygments_lexer": "r",
   "version": "3.2.3"
  }
 },
 "nbformat": 4,
 "nbformat_minor": 0
}
